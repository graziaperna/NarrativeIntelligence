{
 "cells": [
  {
   "cell_type": "code",
   "execution_count": null,
   "metadata": {},
   "outputs": [],
   "source": [
    "import sys\n",
    "import wasabi\n",
    "\n",
    "wasabi.msg.warn(\"This is a test. This is only a test.\")\n",
    "if sys.version_info >= (3, 7):\n",
    "    assert wasabi.util.supports_ansi()\n",
    "\n",
    "print(sys.stdout)"
   ]
  }
 ],
 "metadata": {
  "language_info": {
   "name": "python"
  }
 },
 "nbformat": 4,
 "nbformat_minor": 2
}
